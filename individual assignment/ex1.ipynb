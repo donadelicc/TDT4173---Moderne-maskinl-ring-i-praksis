{
 "cells": [
  {
   "cell_type": "markdown",
   "metadata": {},
   "source": [
    "# Exercise 1: Prediction Models"
   ]
  },
  {
   "cell_type": "markdown",
   "metadata": {},
   "source": [
    "You will practice the basic steps to fit and to use a machine learning model."
   ]
  },
  {
   "cell_type": "code",
   "execution_count": 7,
   "metadata": {},
   "outputs": [],
   "source": [
    "# import packages\n",
    "import pandas as pd\n",
    "import numpy as np\n",
    "from sklearn.model_selection import train_test_split, GridSearchCV\n",
    "from sklearn.metrics import accuracy_score, precision_score, recall_score, f1_score\n",
    "import xgboost as xgb"
   ]
  },
  {
   "cell_type": "code",
   "execution_count": 8,
   "metadata": {},
   "outputs": [],
   "source": [
    "# Load data\n",
    "X_train = pd.read_csv(\"ex1_train.csv\", header=None)\n",
    "X_test = pd.read_csv(\"ex1_test.csv\", header=None)\n",
    "y_train = pd.read_csv(\"ex1_class_train.csv\", header=None)\n",
    "y_test = pd.read_csv(\"ex1_class_test.csv\", header=None)"
   ]
  },
  {
   "cell_type": "code",
   "execution_count": 13,
   "id": "63392ce2",
   "metadata": {},
   "outputs": [
    {
     "data": {
      "text/html": [
       "<div>\n",
       "<style scoped>\n",
       "    .dataframe tbody tr th:only-of-type {\n",
       "        vertical-align: middle;\n",
       "    }\n",
       "\n",
       "    .dataframe tbody tr th {\n",
       "        vertical-align: top;\n",
       "    }\n",
       "\n",
       "    .dataframe thead th {\n",
       "        text-align: right;\n",
       "    }\n",
       "</style>\n",
       "<table border=\"1\" class=\"dataframe\">\n",
       "  <thead>\n",
       "    <tr style=\"text-align: right;\">\n",
       "      <th></th>\n",
       "      <th>0</th>\n",
       "      <th>1</th>\n",
       "      <th>2</th>\n",
       "      <th>3</th>\n",
       "      <th>4</th>\n",
       "      <th>5</th>\n",
       "      <th>6</th>\n",
       "      <th>7</th>\n",
       "      <th>8</th>\n",
       "      <th>9</th>\n",
       "      <th>...</th>\n",
       "      <th>18</th>\n",
       "      <th>19</th>\n",
       "      <th>20</th>\n",
       "      <th>21</th>\n",
       "      <th>22</th>\n",
       "      <th>23</th>\n",
       "      <th>24</th>\n",
       "      <th>25</th>\n",
       "      <th>26</th>\n",
       "      <th>27</th>\n",
       "    </tr>\n",
       "  </thead>\n",
       "  <tbody>\n",
       "    <tr>\n",
       "      <th>0</th>\n",
       "      <td>1.145637</td>\n",
       "      <td>-0.283479</td>\n",
       "      <td>-0.116762</td>\n",
       "      <td>0.485669</td>\n",
       "      <td>0.534493</td>\n",
       "      <td>2.285692</td>\n",
       "      <td>-0.405029</td>\n",
       "      <td>1.332325</td>\n",
       "      <td>2.173076</td>\n",
       "      <td>2.455118</td>\n",
       "      <td>...</td>\n",
       "      <td>0.012032</td>\n",
       "      <td>0.469294</td>\n",
       "      <td>3.101961</td>\n",
       "      <td>0.917121</td>\n",
       "      <td>1.188770</td>\n",
       "      <td>0.992547</td>\n",
       "      <td>0.584527</td>\n",
       "      <td>1.404714</td>\n",
       "      <td>1.097889</td>\n",
       "      <td>0.897418</td>\n",
       "    </tr>\n",
       "    <tr>\n",
       "      <th>1</th>\n",
       "      <td>0.449470</td>\n",
       "      <td>1.300194</td>\n",
       "      <td>-0.031868</td>\n",
       "      <td>1.902767</td>\n",
       "      <td>-0.915609</td>\n",
       "      <td>1.004107</td>\n",
       "      <td>1.140719</td>\n",
       "      <td>1.076203</td>\n",
       "      <td>2.173076</td>\n",
       "      <td>1.142071</td>\n",
       "      <td>...</td>\n",
       "      <td>1.655192</td>\n",
       "      <td>-0.302136</td>\n",
       "      <td>0.000000</td>\n",
       "      <td>1.007296</td>\n",
       "      <td>1.035132</td>\n",
       "      <td>0.985755</td>\n",
       "      <td>0.520742</td>\n",
       "      <td>0.669645</td>\n",
       "      <td>0.833358</td>\n",
       "      <td>0.807968</td>\n",
       "    </tr>\n",
       "    <tr>\n",
       "      <th>2</th>\n",
       "      <td>1.111780</td>\n",
       "      <td>-1.114274</td>\n",
       "      <td>-0.291543</td>\n",
       "      <td>0.550086</td>\n",
       "      <td>0.932272</td>\n",
       "      <td>0.820526</td>\n",
       "      <td>1.069423</td>\n",
       "      <td>-0.580930</td>\n",
       "      <td>2.173076</td>\n",
       "      <td>1.268855</td>\n",
       "      <td>...</td>\n",
       "      <td>0.357653</td>\n",
       "      <td>-1.254923</td>\n",
       "      <td>0.000000</td>\n",
       "      <td>1.127114</td>\n",
       "      <td>0.897337</td>\n",
       "      <td>0.986370</td>\n",
       "      <td>1.547303</td>\n",
       "      <td>0.855611</td>\n",
       "      <td>1.087128</td>\n",
       "      <td>1.044221</td>\n",
       "    </tr>\n",
       "    <tr>\n",
       "      <th>3</th>\n",
       "      <td>0.760769</td>\n",
       "      <td>-0.043883</td>\n",
       "      <td>0.343321</td>\n",
       "      <td>0.553254</td>\n",
       "      <td>0.896668</td>\n",
       "      <td>0.553399</td>\n",
       "      <td>-1.143741</td>\n",
       "      <td>0.636584</td>\n",
       "      <td>2.173076</td>\n",
       "      <td>0.985447</td>\n",
       "      <td>...</td>\n",
       "      <td>0.913979</td>\n",
       "      <td>-1.732147</td>\n",
       "      <td>0.000000</td>\n",
       "      <td>0.782770</td>\n",
       "      <td>1.435926</td>\n",
       "      <td>0.986289</td>\n",
       "      <td>1.037350</td>\n",
       "      <td>0.974693</td>\n",
       "      <td>1.172350</td>\n",
       "      <td>0.996075</td>\n",
       "    </tr>\n",
       "    <tr>\n",
       "      <th>4</th>\n",
       "      <td>0.702023</td>\n",
       "      <td>0.105134</td>\n",
       "      <td>-0.798689</td>\n",
       "      <td>0.499557</td>\n",
       "      <td>-0.429870</td>\n",
       "      <td>1.200513</td>\n",
       "      <td>0.640653</td>\n",
       "      <td>1.021320</td>\n",
       "      <td>2.173076</td>\n",
       "      <td>0.736661</td>\n",
       "      <td>...</td>\n",
       "      <td>0.413452</td>\n",
       "      <td>1.499211</td>\n",
       "      <td>0.000000</td>\n",
       "      <td>0.849873</td>\n",
       "      <td>0.859822</td>\n",
       "      <td>0.995900</td>\n",
       "      <td>1.166605</td>\n",
       "      <td>1.078250</td>\n",
       "      <td>0.849756</td>\n",
       "      <td>0.783117</td>\n",
       "    </tr>\n",
       "  </tbody>\n",
       "</table>\n",
       "<p>5 rows × 28 columns</p>\n",
       "</div>"
      ],
      "text/plain": [
       "         0         1         2         3         4         5         6   \\\n",
       "0  1.145637 -0.283479 -0.116762  0.485669  0.534493  2.285692 -0.405029   \n",
       "1  0.449470  1.300194 -0.031868  1.902767 -0.915609  1.004107  1.140719   \n",
       "2  1.111780 -1.114274 -0.291543  0.550086  0.932272  0.820526  1.069423   \n",
       "3  0.760769 -0.043883  0.343321  0.553254  0.896668  0.553399 -1.143741   \n",
       "4  0.702023  0.105134 -0.798689  0.499557 -0.429870  1.200513  0.640653   \n",
       "\n",
       "         7         8         9   ...        18        19        20        21  \\\n",
       "0  1.332325  2.173076  2.455118  ...  0.012032  0.469294  3.101961  0.917121   \n",
       "1  1.076203  2.173076  1.142071  ...  1.655192 -0.302136  0.000000  1.007296   \n",
       "2 -0.580930  2.173076  1.268855  ...  0.357653 -1.254923  0.000000  1.127114   \n",
       "3  0.636584  2.173076  0.985447  ...  0.913979 -1.732147  0.000000  0.782770   \n",
       "4  1.021320  2.173076  0.736661  ...  0.413452  1.499211  0.000000  0.849873   \n",
       "\n",
       "         22        23        24        25        26        27  \n",
       "0  1.188770  0.992547  0.584527  1.404714  1.097889  0.897418  \n",
       "1  1.035132  0.985755  0.520742  0.669645  0.833358  0.807968  \n",
       "2  0.897337  0.986370  1.547303  0.855611  1.087128  1.044221  \n",
       "3  1.435926  0.986289  1.037350  0.974693  1.172350  0.996075  \n",
       "4  0.859822  0.995900  1.166605  1.078250  0.849756  0.783117  \n",
       "\n",
       "[5 rows x 28 columns]"
      ]
     },
     "execution_count": 13,
     "metadata": {},
     "output_type": "execute_result"
    }
   ],
   "source": [
    "X_train.head()"
   ]
  },
  {
   "cell_type": "code",
   "execution_count": 19,
   "id": "1a04a01e",
   "metadata": {},
   "outputs": [
    {
     "data": {
      "text/plain": [
       "((8800, 28), (2200, 28), (8800, 1), (2200, 1))"
      ]
     },
     "execution_count": 19,
     "metadata": {},
     "output_type": "execute_result"
    }
   ],
   "source": [
    "X_train.shape, X_test.shape, y_train.shape, y_test.shape"
   ]
  },
  {
   "cell_type": "markdown",
   "metadata": {},
   "source": [
    "# Part 1: Default XGBoost Classifier"
   ]
  },
  {
   "cell_type": "markdown",
   "metadata": {},
   "source": [
    "**TODO: Fit the model and predict for test data in the following cell**"
   ]
  },
  {
   "cell_type": "code",
   "execution_count": 10,
   "metadata": {},
   "outputs": [],
   "source": [
    "# 1) create an XGBoost classifier instance\n",
    "xgb_clf = xgb.XGBClassifier()\n",
    "\n",
    "# 2) fit the classifier using X_train and y_train\n",
    "train = xgb_clf.fit(X_train, y_train)\n",
    "\n",
    "# 3) make prediction over X_test. The prediction output should be named y_pred_default\n",
    "y_pred_default = xgb_clf.predict(X_test)"
   ]
  },
  {
   "cell_type": "code",
   "execution_count": 11,
   "metadata": {},
   "outputs": [
    {
     "name": "stdout",
     "output_type": "stream",
     "text": [
      "Default Model Performance:\n",
      "Accuracy: 0.7032\n",
      "Precision: 0.7216\n",
      "Recall: 0.7186\n",
      "F1 Score: 0.7201\n"
     ]
    }
   ],
   "source": [
    "# Evaluate the default model\n",
    "accuracy_default = accuracy_score(y_test, y_pred_default)\n",
    "precision_default = precision_score(y_test, y_pred_default)\n",
    "recall_default = recall_score(y_test, y_pred_default)\n",
    "f1_default = f1_score(y_test, y_pred_default)\n",
    "\n",
    "print(\"Default Model Performance:\")\n",
    "print(f\"Accuracy: {accuracy_default:.4f}\")\n",
    "print(f\"Precision: {precision_default:.4f}\")\n",
    "print(f\"Recall: {recall_default:.4f}\")\n",
    "print(f\"F1 Score: {f1_default:.4f}\")"
   ]
  },
  {
   "cell_type": "markdown",
   "metadata": {},
   "source": [
    "You should achieve F1 score>0.65 to pass Part 1."
   ]
  },
  {
   "cell_type": "markdown",
   "metadata": {},
   "source": [
    "# Part 2: Hyperparameter Tuning with Cross-Validation"
   ]
  },
  {
   "cell_type": "code",
   "execution_count": 12,
   "metadata": {},
   "outputs": [],
   "source": [
    "# Define candidate hyperparameters\n",
    "param_grid = {\n",
    "    'n_estimators': [100, 200, 300],\n",
    "    'max_depth': [3, 6, 9],\n",
    "    'learning_rate': [0.01, 0.1, 0.2]\n",
    "}"
   ]
  },
  {
   "cell_type": "markdown",
   "metadata": {},
   "source": [
    "**TODO: Find the best hyperparameters and use them to fit an improved classifier in the following cell**"
   ]
  },
  {
   "cell_type": "code",
   "execution_count": 20,
   "metadata": {},
   "outputs": [],
   "source": [
    "# 1) use GridSearchCV to find the best hyperparameters\n",
    "GridSearchCV = GridSearchCV(estimator=xgb_clf, param_grid=param_grid, cv=5)\n",
    "\n",
    "# 2) fit an XGBoost classifier using the best hyperparameters\n",
    "GridSearchCV.fit(X_train, y_train)\n",
    "# 3) make prediction over X_test. The prediction output should be named y_pred_tuned\n",
    "y_pred_tuned = GridSearchCV.predict(X_test)"
   ]
  },
  {
   "cell_type": "code",
   "execution_count": 21,
   "metadata": {},
   "outputs": [
    {
     "name": "stdout",
     "output_type": "stream",
     "text": [
      "Tuned Model Performance:\n",
      "Accuracy: 0.7186\n",
      "Precision: 0.7276\n",
      "Recall: 0.7519\n",
      "F1 Score: 0.7396\n",
      "Improvement in F1 Score: 0.0195\n"
     ]
    }
   ],
   "source": [
    "# Evaluate the tuned model\n",
    "accuracy_tuned = accuracy_score(y_test, y_pred_tuned)\n",
    "precision_tuned = precision_score(y_test, y_pred_tuned)\n",
    "recall_tuned = recall_score(y_test, y_pred_tuned)\n",
    "f1_tuned = f1_score(y_test, y_pred_tuned)\n",
    "\n",
    "print(\"Tuned Model Performance:\")\n",
    "print(f\"Accuracy: {accuracy_tuned:.4f}\")\n",
    "print(f\"Precision: {precision_tuned:.4f}\")\n",
    "print(f\"Recall: {recall_tuned:.4f}\")\n",
    "print(f\"F1 Score: {f1_tuned:.4f}\")\n",
    "\n",
    "# Analysis\n",
    "print(f\"Improvement in F1 Score: {f1_tuned - f1_default:.4f}\")"
   ]
  },
  {
   "cell_type": "markdown",
   "metadata": {},
   "source": [
    "To pass Part 2, your new F1 score should be higher 0.65 and the one in Part 1."
   ]
  },
  {
   "cell_type": "code",
   "execution_count": null,
   "metadata": {},
   "outputs": [],
   "source": []
  }
 ],
 "metadata": {
  "kernelspec": {
   "display_name": "Python 3",
   "language": "python",
   "name": "python3"
  },
  "language_info": {
   "codemirror_mode": {
    "name": "ipython",
    "version": 3
   },
   "file_extension": ".py",
   "mimetype": "text/x-python",
   "name": "python",
   "nbconvert_exporter": "python",
   "pygments_lexer": "ipython3",
   "version": "3.11.5"
  }
 },
 "nbformat": 4,
 "nbformat_minor": 5
}
